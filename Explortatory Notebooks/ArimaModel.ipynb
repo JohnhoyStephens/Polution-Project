{
 "cells": [
  {
   "cell_type": "code",
   "execution_count": 19,
   "id": "b40e695c-2c46-4d26-8bfd-a16f5ffa6b5b",
   "metadata": {},
   "outputs": [],
   "source": [
    "# Imports\n",
    "import pandas as pd\n",
    "import numpy as np\n",
    "import matplotlib.pyplot as plt\n",
    "import seaborn as sns\n",
    "from sklearn.model_selection import train_test_split\n",
    "from statsmodels.tsa.stattools import adfuller"
   ]
  },
  {
   "cell_type": "code",
   "execution_count": 2,
   "id": "b4e9b60f-4da1-40ad-b9b1-687ae632bc2f",
   "metadata": {},
   "outputs": [
    {
     "data": {
      "text/html": [
       "<div>\n",
       "<style scoped>\n",
       "    .dataframe tbody tr th:only-of-type {\n",
       "        vertical-align: middle;\n",
       "    }\n",
       "\n",
       "    .dataframe tbody tr th {\n",
       "        vertical-align: top;\n",
       "    }\n",
       "\n",
       "    .dataframe thead th {\n",
       "        text-align: right;\n",
       "    }\n",
       "</style>\n",
       "<table border=\"1\" class=\"dataframe\">\n",
       "  <thead>\n",
       "    <tr style=\"text-align: right;\">\n",
       "      <th></th>\n",
       "      <th>date</th>\n",
       "      <th>pollution</th>\n",
       "      <th>dew</th>\n",
       "      <th>temp</th>\n",
       "      <th>press</th>\n",
       "      <th>wnd_dir</th>\n",
       "      <th>wnd_spd</th>\n",
       "      <th>snow</th>\n",
       "      <th>rain</th>\n",
       "    </tr>\n",
       "  </thead>\n",
       "  <tbody>\n",
       "    <tr>\n",
       "      <th>0</th>\n",
       "      <td>2010-01-02 00:00:00</td>\n",
       "      <td>129.0</td>\n",
       "      <td>-16</td>\n",
       "      <td>-4.0</td>\n",
       "      <td>1020.0</td>\n",
       "      <td>SE</td>\n",
       "      <td>1.79</td>\n",
       "      <td>0</td>\n",
       "      <td>0</td>\n",
       "    </tr>\n",
       "    <tr>\n",
       "      <th>1</th>\n",
       "      <td>2010-01-02 01:00:00</td>\n",
       "      <td>148.0</td>\n",
       "      <td>-15</td>\n",
       "      <td>-4.0</td>\n",
       "      <td>1020.0</td>\n",
       "      <td>SE</td>\n",
       "      <td>2.68</td>\n",
       "      <td>0</td>\n",
       "      <td>0</td>\n",
       "    </tr>\n",
       "    <tr>\n",
       "      <th>2</th>\n",
       "      <td>2010-01-02 02:00:00</td>\n",
       "      <td>159.0</td>\n",
       "      <td>-11</td>\n",
       "      <td>-5.0</td>\n",
       "      <td>1021.0</td>\n",
       "      <td>SE</td>\n",
       "      <td>3.57</td>\n",
       "      <td>0</td>\n",
       "      <td>0</td>\n",
       "    </tr>\n",
       "    <tr>\n",
       "      <th>3</th>\n",
       "      <td>2010-01-02 03:00:00</td>\n",
       "      <td>181.0</td>\n",
       "      <td>-7</td>\n",
       "      <td>-5.0</td>\n",
       "      <td>1022.0</td>\n",
       "      <td>SE</td>\n",
       "      <td>5.36</td>\n",
       "      <td>1</td>\n",
       "      <td>0</td>\n",
       "    </tr>\n",
       "    <tr>\n",
       "      <th>4</th>\n",
       "      <td>2010-01-02 04:00:00</td>\n",
       "      <td>138.0</td>\n",
       "      <td>-7</td>\n",
       "      <td>-5.0</td>\n",
       "      <td>1022.0</td>\n",
       "      <td>SE</td>\n",
       "      <td>6.25</td>\n",
       "      <td>2</td>\n",
       "      <td>0</td>\n",
       "    </tr>\n",
       "    <tr>\n",
       "      <th>...</th>\n",
       "      <td>...</td>\n",
       "      <td>...</td>\n",
       "      <td>...</td>\n",
       "      <td>...</td>\n",
       "      <td>...</td>\n",
       "      <td>...</td>\n",
       "      <td>...</td>\n",
       "      <td>...</td>\n",
       "      <td>...</td>\n",
       "    </tr>\n",
       "    <tr>\n",
       "      <th>35034</th>\n",
       "      <td>2013-12-31 18:00:00</td>\n",
       "      <td>15.0</td>\n",
       "      <td>-19</td>\n",
       "      <td>8.0</td>\n",
       "      <td>1013.0</td>\n",
       "      <td>NW</td>\n",
       "      <td>109.95</td>\n",
       "      <td>0</td>\n",
       "      <td>0</td>\n",
       "    </tr>\n",
       "    <tr>\n",
       "      <th>35035</th>\n",
       "      <td>2013-12-31 19:00:00</td>\n",
       "      <td>22.0</td>\n",
       "      <td>-19</td>\n",
       "      <td>7.0</td>\n",
       "      <td>1013.0</td>\n",
       "      <td>NW</td>\n",
       "      <td>114.87</td>\n",
       "      <td>0</td>\n",
       "      <td>0</td>\n",
       "    </tr>\n",
       "    <tr>\n",
       "      <th>35036</th>\n",
       "      <td>2013-12-31 20:00:00</td>\n",
       "      <td>18.0</td>\n",
       "      <td>-21</td>\n",
       "      <td>7.0</td>\n",
       "      <td>1014.0</td>\n",
       "      <td>NW</td>\n",
       "      <td>119.79</td>\n",
       "      <td>0</td>\n",
       "      <td>0</td>\n",
       "    </tr>\n",
       "    <tr>\n",
       "      <th>35037</th>\n",
       "      <td>2013-12-31 21:00:00</td>\n",
       "      <td>23.0</td>\n",
       "      <td>-21</td>\n",
       "      <td>7.0</td>\n",
       "      <td>1014.0</td>\n",
       "      <td>NW</td>\n",
       "      <td>125.60</td>\n",
       "      <td>0</td>\n",
       "      <td>0</td>\n",
       "    </tr>\n",
       "    <tr>\n",
       "      <th>35038</th>\n",
       "      <td>2013-12-31 22:00:00</td>\n",
       "      <td>20.0</td>\n",
       "      <td>-21</td>\n",
       "      <td>6.0</td>\n",
       "      <td>1014.0</td>\n",
       "      <td>NW</td>\n",
       "      <td>130.52</td>\n",
       "      <td>0</td>\n",
       "      <td>0</td>\n",
       "    </tr>\n",
       "  </tbody>\n",
       "</table>\n",
       "<p>35039 rows × 9 columns</p>\n",
       "</div>"
      ],
      "text/plain": [
       "                      date  pollution  dew  temp   press wnd_dir  wnd_spd  \\\n",
       "0      2010-01-02 00:00:00      129.0  -16  -4.0  1020.0      SE     1.79   \n",
       "1      2010-01-02 01:00:00      148.0  -15  -4.0  1020.0      SE     2.68   \n",
       "2      2010-01-02 02:00:00      159.0  -11  -5.0  1021.0      SE     3.57   \n",
       "3      2010-01-02 03:00:00      181.0   -7  -5.0  1022.0      SE     5.36   \n",
       "4      2010-01-02 04:00:00      138.0   -7  -5.0  1022.0      SE     6.25   \n",
       "...                    ...        ...  ...   ...     ...     ...      ...   \n",
       "35034  2013-12-31 18:00:00       15.0  -19   8.0  1013.0      NW   109.95   \n",
       "35035  2013-12-31 19:00:00       22.0  -19   7.0  1013.0      NW   114.87   \n",
       "35036  2013-12-31 20:00:00       18.0  -21   7.0  1014.0      NW   119.79   \n",
       "35037  2013-12-31 21:00:00       23.0  -21   7.0  1014.0      NW   125.60   \n",
       "35038  2013-12-31 22:00:00       20.0  -21   6.0  1014.0      NW   130.52   \n",
       "\n",
       "       snow  rain  \n",
       "0         0     0  \n",
       "1         0     0  \n",
       "2         0     0  \n",
       "3         1     0  \n",
       "4         2     0  \n",
       "...     ...   ...  \n",
       "35034     0     0  \n",
       "35035     0     0  \n",
       "35036     0     0  \n",
       "35037     0     0  \n",
       "35038     0     0  \n",
       "\n",
       "[35039 rows x 9 columns]"
      ]
     },
     "execution_count": 2,
     "metadata": {},
     "output_type": "execute_result"
    }
   ],
   "source": [
    "train_test = pd.read_csv('../Bejing Data/Train_test.csv')\n",
    "train_test"
   ]
  },
  {
   "cell_type": "code",
   "execution_count": 3,
   "id": "e674ec57-fc6d-4e0a-a17a-e3dd723c5585",
   "metadata": {},
   "outputs": [
    {
     "data": {
      "text/plain": [
       "SE    12068\n",
       "NW    11673\n",
       "cv     7305\n",
       "NE     3993\n",
       "Name: wnd_dir, dtype: int64"
      ]
     },
     "execution_count": 3,
     "metadata": {},
     "output_type": "execute_result"
    }
   ],
   "source": [
    "train_test[\"wnd_dir\"].value_counts()"
   ]
  },
  {
   "cell_type": "code",
   "execution_count": 4,
   "id": "5fd62fc8-7eb3-4695-a28b-547f74e566c0",
   "metadata": {},
   "outputs": [],
   "source": [
    "train_test[\"wnd_dir\"]=pd.factorize( train_test[\"wnd_dir\"])[0]"
   ]
  },
  {
   "cell_type": "code",
   "execution_count": 5,
   "id": "98d01e08-1244-4596-810d-2de51e9ba049",
   "metadata": {},
   "outputs": [
    {
     "data": {
      "text/html": [
       "<div>\n",
       "<style scoped>\n",
       "    .dataframe tbody tr th:only-of-type {\n",
       "        vertical-align: middle;\n",
       "    }\n",
       "\n",
       "    .dataframe tbody tr th {\n",
       "        vertical-align: top;\n",
       "    }\n",
       "\n",
       "    .dataframe thead th {\n",
       "        text-align: right;\n",
       "    }\n",
       "</style>\n",
       "<table border=\"1\" class=\"dataframe\">\n",
       "  <thead>\n",
       "    <tr style=\"text-align: right;\">\n",
       "      <th></th>\n",
       "      <th>date</th>\n",
       "      <th>pollution</th>\n",
       "      <th>dew</th>\n",
       "      <th>temp</th>\n",
       "      <th>press</th>\n",
       "      <th>wnd_dir</th>\n",
       "      <th>wnd_spd</th>\n",
       "      <th>snow</th>\n",
       "      <th>rain</th>\n",
       "    </tr>\n",
       "  </thead>\n",
       "  <tbody>\n",
       "    <tr>\n",
       "      <th>0</th>\n",
       "      <td>2010-01-02 00:00:00</td>\n",
       "      <td>129.0</td>\n",
       "      <td>-16</td>\n",
       "      <td>-4.0</td>\n",
       "      <td>1020.0</td>\n",
       "      <td>0</td>\n",
       "      <td>1.79</td>\n",
       "      <td>0</td>\n",
       "      <td>0</td>\n",
       "    </tr>\n",
       "    <tr>\n",
       "      <th>1</th>\n",
       "      <td>2010-01-02 01:00:00</td>\n",
       "      <td>148.0</td>\n",
       "      <td>-15</td>\n",
       "      <td>-4.0</td>\n",
       "      <td>1020.0</td>\n",
       "      <td>0</td>\n",
       "      <td>2.68</td>\n",
       "      <td>0</td>\n",
       "      <td>0</td>\n",
       "    </tr>\n",
       "    <tr>\n",
       "      <th>2</th>\n",
       "      <td>2010-01-02 02:00:00</td>\n",
       "      <td>159.0</td>\n",
       "      <td>-11</td>\n",
       "      <td>-5.0</td>\n",
       "      <td>1021.0</td>\n",
       "      <td>0</td>\n",
       "      <td>3.57</td>\n",
       "      <td>0</td>\n",
       "      <td>0</td>\n",
       "    </tr>\n",
       "    <tr>\n",
       "      <th>3</th>\n",
       "      <td>2010-01-02 03:00:00</td>\n",
       "      <td>181.0</td>\n",
       "      <td>-7</td>\n",
       "      <td>-5.0</td>\n",
       "      <td>1022.0</td>\n",
       "      <td>0</td>\n",
       "      <td>5.36</td>\n",
       "      <td>1</td>\n",
       "      <td>0</td>\n",
       "    </tr>\n",
       "    <tr>\n",
       "      <th>4</th>\n",
       "      <td>2010-01-02 04:00:00</td>\n",
       "      <td>138.0</td>\n",
       "      <td>-7</td>\n",
       "      <td>-5.0</td>\n",
       "      <td>1022.0</td>\n",
       "      <td>0</td>\n",
       "      <td>6.25</td>\n",
       "      <td>2</td>\n",
       "      <td>0</td>\n",
       "    </tr>\n",
       "    <tr>\n",
       "      <th>...</th>\n",
       "      <td>...</td>\n",
       "      <td>...</td>\n",
       "      <td>...</td>\n",
       "      <td>...</td>\n",
       "      <td>...</td>\n",
       "      <td>...</td>\n",
       "      <td>...</td>\n",
       "      <td>...</td>\n",
       "      <td>...</td>\n",
       "    </tr>\n",
       "    <tr>\n",
       "      <th>35034</th>\n",
       "      <td>2013-12-31 18:00:00</td>\n",
       "      <td>15.0</td>\n",
       "      <td>-19</td>\n",
       "      <td>8.0</td>\n",
       "      <td>1013.0</td>\n",
       "      <td>2</td>\n",
       "      <td>109.95</td>\n",
       "      <td>0</td>\n",
       "      <td>0</td>\n",
       "    </tr>\n",
       "    <tr>\n",
       "      <th>35035</th>\n",
       "      <td>2013-12-31 19:00:00</td>\n",
       "      <td>22.0</td>\n",
       "      <td>-19</td>\n",
       "      <td>7.0</td>\n",
       "      <td>1013.0</td>\n",
       "      <td>2</td>\n",
       "      <td>114.87</td>\n",
       "      <td>0</td>\n",
       "      <td>0</td>\n",
       "    </tr>\n",
       "    <tr>\n",
       "      <th>35036</th>\n",
       "      <td>2013-12-31 20:00:00</td>\n",
       "      <td>18.0</td>\n",
       "      <td>-21</td>\n",
       "      <td>7.0</td>\n",
       "      <td>1014.0</td>\n",
       "      <td>2</td>\n",
       "      <td>119.79</td>\n",
       "      <td>0</td>\n",
       "      <td>0</td>\n",
       "    </tr>\n",
       "    <tr>\n",
       "      <th>35037</th>\n",
       "      <td>2013-12-31 21:00:00</td>\n",
       "      <td>23.0</td>\n",
       "      <td>-21</td>\n",
       "      <td>7.0</td>\n",
       "      <td>1014.0</td>\n",
       "      <td>2</td>\n",
       "      <td>125.60</td>\n",
       "      <td>0</td>\n",
       "      <td>0</td>\n",
       "    </tr>\n",
       "    <tr>\n",
       "      <th>35038</th>\n",
       "      <td>2013-12-31 22:00:00</td>\n",
       "      <td>20.0</td>\n",
       "      <td>-21</td>\n",
       "      <td>6.0</td>\n",
       "      <td>1014.0</td>\n",
       "      <td>2</td>\n",
       "      <td>130.52</td>\n",
       "      <td>0</td>\n",
       "      <td>0</td>\n",
       "    </tr>\n",
       "  </tbody>\n",
       "</table>\n",
       "<p>35039 rows × 9 columns</p>\n",
       "</div>"
      ],
      "text/plain": [
       "                      date  pollution  dew  temp   press  wnd_dir  wnd_spd  \\\n",
       "0      2010-01-02 00:00:00      129.0  -16  -4.0  1020.0        0     1.79   \n",
       "1      2010-01-02 01:00:00      148.0  -15  -4.0  1020.0        0     2.68   \n",
       "2      2010-01-02 02:00:00      159.0  -11  -5.0  1021.0        0     3.57   \n",
       "3      2010-01-02 03:00:00      181.0   -7  -5.0  1022.0        0     5.36   \n",
       "4      2010-01-02 04:00:00      138.0   -7  -5.0  1022.0        0     6.25   \n",
       "...                    ...        ...  ...   ...     ...      ...      ...   \n",
       "35034  2013-12-31 18:00:00       15.0  -19   8.0  1013.0        2   109.95   \n",
       "35035  2013-12-31 19:00:00       22.0  -19   7.0  1013.0        2   114.87   \n",
       "35036  2013-12-31 20:00:00       18.0  -21   7.0  1014.0        2   119.79   \n",
       "35037  2013-12-31 21:00:00       23.0  -21   7.0  1014.0        2   125.60   \n",
       "35038  2013-12-31 22:00:00       20.0  -21   6.0  1014.0        2   130.52   \n",
       "\n",
       "       snow  rain  \n",
       "0         0     0  \n",
       "1         0     0  \n",
       "2         0     0  \n",
       "3         1     0  \n",
       "4         2     0  \n",
       "...     ...   ...  \n",
       "35034     0     0  \n",
       "35035     0     0  \n",
       "35036     0     0  \n",
       "35037     0     0  \n",
       "35038     0     0  \n",
       "\n",
       "[35039 rows x 9 columns]"
      ]
     },
     "execution_count": 5,
     "metadata": {},
     "output_type": "execute_result"
    }
   ],
   "source": [
    "train_test"
   ]
  },
  {
   "cell_type": "code",
   "execution_count": 6,
   "id": "2554a1ac-87c9-4a18-8113-a7e986a30bc5",
   "metadata": {},
   "outputs": [],
   "source": [
    "train_test=train_test.drop(\"date\",axis=1)"
   ]
  },
  {
   "cell_type": "code",
   "execution_count": 7,
   "id": "fe8f9e6f-c00e-4f37-99dc-f0150e98d195",
   "metadata": {},
   "outputs": [
    {
     "data": {
      "text/plain": [
       "0    12068\n",
       "2    11673\n",
       "1     7305\n",
       "3     3993\n",
       "Name: wnd_dir, dtype: int64"
      ]
     },
     "execution_count": 7,
     "metadata": {},
     "output_type": "execute_result"
    }
   ],
   "source": [
    "train_test[\"wnd_dir\"].value_counts()"
   ]
  },
  {
   "cell_type": "code",
   "execution_count": 8,
   "id": "39df0fbb-c314-4516-a661-8ff5dd79546d",
   "metadata": {},
   "outputs": [],
   "source": [
    "x=train_test.drop(\"pollution\",axis=1)\n",
    "y=train_test[\"pollution\"]"
   ]
  },
  {
   "cell_type": "code",
   "execution_count": 9,
   "id": "a9372cee-5097-4d81-a631-3bfc0478fa22",
   "metadata": {},
   "outputs": [
    {
     "data": {
      "text/plain": [
       "0        129.0\n",
       "1        148.0\n",
       "2        159.0\n",
       "3        181.0\n",
       "4        138.0\n",
       "         ...  \n",
       "35034     15.0\n",
       "35035     22.0\n",
       "35036     18.0\n",
       "35037     23.0\n",
       "35038     20.0\n",
       "Name: pollution, Length: 35039, dtype: float64"
      ]
     },
     "execution_count": 9,
     "metadata": {},
     "output_type": "execute_result"
    }
   ],
   "source": [
    "y"
   ]
  },
  {
   "cell_type": "code",
   "execution_count": 10,
   "id": "9dc0e498-e073-493a-8f6d-092c2ef65316",
   "metadata": {},
   "outputs": [],
   "source": [
    "x_train,x_test,y_train,y_test=train_test_split(x,y,test_size=.20,random_state=22)"
   ]
  },
  {
   "cell_type": "code",
   "execution_count": 11,
   "id": "6d40a03b-0c83-4bff-8915-89243f732b27",
   "metadata": {},
   "outputs": [],
   "source": [
    "# pip install pmdarima"
   ]
  },
  {
   "cell_type": "code",
   "execution_count": 12,
   "id": "4e28727f-65fd-4dbe-9e60-e3698f128a95",
   "metadata": {},
   "outputs": [],
   "source": [
    "from pmdarima.arima import auto_arima"
   ]
  },
  {
   "cell_type": "code",
   "execution_count": 13,
   "id": "f82a4096-b164-4dc8-888e-10cd88760768",
   "metadata": {},
   "outputs": [
    {
     "data": {
      "text/plain": [
       "20906     93.0\n",
       "34961     20.0\n",
       "16877    229.0\n",
       "19513     40.0\n",
       "26552    278.0\n",
       "         ...  \n",
       "20971     17.0\n",
       "23030      0.0\n",
       "24932     38.0\n",
       "31680     49.0\n",
       "29484     93.0\n",
       "Name: pollution, Length: 28031, dtype: float64"
      ]
     },
     "execution_count": 13,
     "metadata": {},
     "output_type": "execute_result"
    }
   ],
   "source": [
    "y_train"
   ]
  },
  {
   "cell_type": "code",
   "execution_count": 24,
   "id": "401d610d-b798-4366-9688-a7555e460f51",
   "metadata": {},
   "outputs": [
    {
     "name": "stdout",
     "output_type": "stream",
     "text": [
      "         Values                       Metric\n",
      "0    -19.095143              Test Statistics\n",
      "1      0.000000                      p-value\n",
      "2     52.000000             No. of lags used\n",
      "3  34986.000000  Number of observations used\n",
      "4     -3.430537          critical value (1%)\n",
      "5     -2.861623          critical value (5%)\n",
      "6     -2.566814         critical value (10%)\n"
     ]
    }
   ],
   "source": [
    "adft = adfuller(y,autolag=\"AIC\")\n",
    "output_df= pd.DataFrame({\"Values\":[adft[0],adft[1],adft[2],adft[3], adft[4]['1%'], adft[4]['5%'], adft[4]['10%']], \"Metric\":[\"Test Statistics\",\"p-value\",\"No. of lags used\",\"Number of observations used\", \n",
    "                                                        \"critical value (1%)\", \"critical value (5%)\", \"critical value (10%)\"]})\n",
    "print(output_df)"
   ]
  },
  {
   "cell_type": "code",
   "execution_count": 14,
   "id": "d2de1542-95f9-4e30-9ab3-0962b5d41388",
   "metadata": {},
   "outputs": [
    {
     "name": "stdout",
     "output_type": "stream",
     "text": [
      "Performing stepwise search to minimize aic\n",
      " ARIMA(2,0,2)(0,0,0)[0] intercept   : AIC=325821.126, Time=10.01 sec\n",
      " ARIMA(0,0,0)(0,0,0)[0] intercept   : AIC=325814.497, Time=6.44 sec\n",
      " ARIMA(1,0,0)(0,0,0)[0] intercept   : AIC=325816.147, Time=4.46 sec\n",
      " ARIMA(0,0,1)(0,0,0)[0] intercept   : AIC=325816.148, Time=5.29 sec\n",
      " ARIMA(0,0,0)(0,0,0)[0]             : AIC=325812.768, Time=16.80 sec\n",
      " ARIMA(1,0,1)(0,0,0)[0] intercept   : AIC=inf, Time=40.60 sec\n",
      "\n",
      "Best model:  ARIMA(0,0,0)(0,0,0)[0]          \n",
      "Total fit time: 83.648 seconds\n"
     ]
    }
   ],
   "source": [
    "model = auto_arima(y_train,x_train,trace=True, error_action='ignore', suppress_warnings=True)\n",
    "model.fit(y_train)\n",
    "forecast = model.predict(n_periods=len(y_test))\n",
    "forecast = pd.DataFrame(forecast,index = y_test.index,columns=['Prediction'])"
   ]
  },
  {
   "cell_type": "code",
   "execution_count": 15,
   "id": "48084d0b-2d75-4a70-8497-67f56b7a4bec",
   "metadata": {},
   "outputs": [
    {
     "data": {
      "text/html": [
       "<table class=\"simpletable\">\n",
       "<caption>SARIMAX Results</caption>\n",
       "<tr>\n",
       "  <th>Dep. Variable:</th>           <td>y</td>        <th>  No. Observations:  </th>    <td>28031</td>   \n",
       "</tr>\n",
       "<tr>\n",
       "  <th>Model:</th>                <td>SARIMAX</td>     <th>  Log Likelihood     </th> <td>-176380.256</td>\n",
       "</tr>\n",
       "<tr>\n",
       "  <th>Date:</th>            <td>Thu, 03 Mar 2022</td> <th>  AIC                </th> <td>352762.511</td> \n",
       "</tr>\n",
       "<tr>\n",
       "  <th>Time:</th>                <td>18:54:41</td>     <th>  BIC                </th> <td>352770.753</td> \n",
       "</tr>\n",
       "<tr>\n",
       "  <th>Sample:</th>                  <td>0</td>        <th>  HQIC               </th> <td>352765.164</td> \n",
       "</tr>\n",
       "<tr>\n",
       "  <th></th>                     <td> - 28031</td>     <th>                     </th>      <td> </td>     \n",
       "</tr>\n",
       "<tr>\n",
       "  <th>Covariance Type:</th>        <td>opg</td>       <th>                     </th>      <td> </td>     \n",
       "</tr>\n",
       "</table>\n",
       "<table class=\"simpletable\">\n",
       "<tr>\n",
       "     <td></td>       <th>coef</th>     <th>std err</th>      <th>z</th>      <th>P>|z|</th>  <th>[0.025</th>    <th>0.975]</th>  \n",
       "</tr>\n",
       "<tr>\n",
       "  <th>sigma2</th> <td>  1.71e+04</td> <td>   95.711</td> <td>  178.652</td> <td> 0.000</td> <td> 1.69e+04</td> <td> 1.73e+04</td>\n",
       "</tr>\n",
       "</table>\n",
       "<table class=\"simpletable\">\n",
       "<tr>\n",
       "  <th>Ljung-Box (L1) (Q):</th>     <td>0.67</td> <th>  Jarque-Bera (JB):  </th> <td>48565.03</td>\n",
       "</tr>\n",
       "<tr>\n",
       "  <th>Prob(Q):</th>                <td>0.41</td> <th>  Prob(JB):          </th>   <td>0.00</td>  \n",
       "</tr>\n",
       "<tr>\n",
       "  <th>Heteroskedasticity (H):</th> <td>0.98</td> <th>  Skew:              </th>   <td>1.83</td>  \n",
       "</tr>\n",
       "<tr>\n",
       "  <th>Prob(H) (two-sided):</th>    <td>0.31</td> <th>  Kurtosis:          </th>   <td>8.31</td>  \n",
       "</tr>\n",
       "</table><br/><br/>Warnings:<br/>[1] Covariance matrix calculated using the outer product of gradients (complex-step)."
      ],
      "text/plain": [
       "<class 'statsmodels.iolib.summary.Summary'>\n",
       "\"\"\"\n",
       "                               SARIMAX Results                                \n",
       "==============================================================================\n",
       "Dep. Variable:                      y   No. Observations:                28031\n",
       "Model:                        SARIMAX   Log Likelihood             -176380.256\n",
       "Date:                Thu, 03 Mar 2022   AIC                         352762.511\n",
       "Time:                        18:54:41   BIC                         352770.753\n",
       "Sample:                             0   HQIC                        352765.164\n",
       "                              - 28031                                         \n",
       "Covariance Type:                  opg                                         \n",
       "==============================================================================\n",
       "                 coef    std err          z      P>|z|      [0.025      0.975]\n",
       "------------------------------------------------------------------------------\n",
       "sigma2       1.71e+04     95.711    178.652      0.000    1.69e+04    1.73e+04\n",
       "===================================================================================\n",
       "Ljung-Box (L1) (Q):                   0.67   Jarque-Bera (JB):             48565.03\n",
       "Prob(Q):                              0.41   Prob(JB):                         0.00\n",
       "Heteroskedasticity (H):               0.98   Skew:                             1.83\n",
       "Prob(H) (two-sided):                  0.31   Kurtosis:                         8.31\n",
       "===================================================================================\n",
       "\n",
       "Warnings:\n",
       "[1] Covariance matrix calculated using the outer product of gradients (complex-step).\n",
       "\"\"\""
      ]
     },
     "execution_count": 15,
     "metadata": {},
     "output_type": "execute_result"
    }
   ],
   "source": [
    "model.summary()"
   ]
  },
  {
   "cell_type": "code",
   "execution_count": 16,
   "id": "616afef0-4691-417a-ab9c-644e406751f6",
   "metadata": {},
   "outputs": [
    {
     "ename": "NameError",
     "evalue": "name 'y_pred' is not defined",
     "output_type": "error",
     "traceback": [
      "\u001b[1;31m---------------------------------------------------------------------------\u001b[0m",
      "\u001b[1;31mNameError\u001b[0m                                 Traceback (most recent call last)",
      "\u001b[1;32m~\\AppData\\Local\\Temp/ipykernel_29472/2468440808.py\u001b[0m in \u001b[0;36m<module>\u001b[1;34m\u001b[0m\n\u001b[0;32m      1\u001b[0m \u001b[1;31m# Accuracy Scor\u001b[0m\u001b[1;33m\u001b[0m\u001b[1;33m\u001b[0m\u001b[0m\n\u001b[0;32m      2\u001b[0m \u001b[1;32mfrom\u001b[0m \u001b[0msklearn\u001b[0m\u001b[1;33m.\u001b[0m\u001b[0mmetrics\u001b[0m \u001b[1;32mimport\u001b[0m \u001b[0maccuracy_score\u001b[0m\u001b[1;33m\u001b[0m\u001b[1;33m\u001b[0m\u001b[0m\n\u001b[1;32m----> 3\u001b[1;33m \u001b[0maccuracy_score\u001b[0m\u001b[1;33m(\u001b[0m\u001b[0my\u001b[0m\u001b[1;33m,\u001b[0m\u001b[0my_pred\u001b[0m\u001b[1;33m)\u001b[0m\u001b[1;33m\u001b[0m\u001b[1;33m\u001b[0m\u001b[0m\n\u001b[0m\u001b[0;32m      4\u001b[0m \u001b[1;33m\u001b[0m\u001b[0m\n\u001b[0;32m      5\u001b[0m \u001b[1;33m\u001b[0m\u001b[0m\n",
      "\u001b[1;31mNameError\u001b[0m: name 'y_pred' is not defined"
     ]
    }
   ],
   "source": [
    "# Accuracy Scor\n",
    "from sklearn.metrics import accuracy_score\n",
    "accuracy_score(y,y_pred)\n",
    "\n",
    "\n"
   ]
  },
  {
   "cell_type": "code",
   "execution_count": 17,
   "id": "a8bec732-5872-4c41-a9f4-76321d52ffb5",
   "metadata": {},
   "outputs": [
    {
     "name": "stdout",
     "output_type": "stream",
     "text": [
      "RMSE:  131.9878099048178\n"
     ]
    }
   ],
   "source": [
    "# RMSE cell\n",
    "from math import sqrt\n",
    "from sklearn.metrics import mean_squared_error\n",
    "rms = sqrt(mean_squared_error(y_test,forecast))\n",
    "print(\"RMSE: \", rms)"
   ]
  }
 ],
 "metadata": {
  "kernelspec": {
   "display_name": "Python 3 (ipykernel)",
   "language": "python",
   "name": "python3"
  },
  "language_info": {
   "codemirror_mode": {
    "name": "ipython",
    "version": 3
   },
   "file_extension": ".py",
   "mimetype": "text/x-python",
   "name": "python",
   "nbconvert_exporter": "python",
   "pygments_lexer": "ipython3",
   "version": "3.9.7"
  }
 },
 "nbformat": 4,
 "nbformat_minor": 5
}
